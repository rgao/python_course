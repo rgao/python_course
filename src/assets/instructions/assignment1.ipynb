{
 "cells": [
  {
   "cell_type": "markdown",
   "metadata": {},
   "source": [
    "# Assignment #1: Introduction, Variables, and Operators\n",
    "\n",
    "Recommended readings: *How to Think Like a Computer Scientist, 2nd Edition*, Chapters 1 & 2\n",
    "\n",
    "Ensure that your python environment is properly running. Create a new python file, just like our hello_world.py from class. \n",
    "\n",
    "### Exercise 1:\n",
    "\n",
    "Just like spoken languages, computer languages rely on proper syntax and their own set of grammatical rules for function and coherence. A misplaced character or word can change the meaning conveyed and, in the case for programming languages, will not execute the command as intended. Here you will practice syntax and language structure.\n",
    "\n",
    "Recall what we learned about printing, syntax, data types, and variables from class. As a warm up, set a variable to a string or an integer, and print that variable.\n",
    "\n",
    "Next, create four more variables (you can overwrite the previous variable). Use three of them to store sentences; they could be about anything. Set the last variable to an integer and concatenate it with the other variables and change data types if necessary. Make sure your number makes sense in context and use proper English syntax. Your output should have no grammatical errors."
   ]
  },
  {
   "cell_type": "code",
   "execution_count": 8,
   "metadata": {},
   "outputs": [],
   "source": [
    "# Your Code Here\n",
    "# Create four variables and concatenate them"
   ]
  },
  {
   "cell_type": "markdown",
   "metadata": {},
   "source": [
    "### Exercise 2:\n",
    "\n",
    "Printing is very useful to view the output of your code. In particular, it can be used to check your code at every step to identify errors or to confirm your progress. It can be tiring, however, to manually print extensive material. Efficient variable usage can make printing less time-consuming. Consider this python output:"
   ]
  },
  {
   "cell_type": "code",
   "execution_count": null,
   "metadata": {},
   "outputs": [],
   "source": [
    "print(\"  |    |  \")\n",
    "print(\"\\_|____|_/\")\n",
    "print(\"  |    |  \")\n",
    "print(\"\\_|____|_/\")\n",
    "print(\"  |    |  \")"
   ]
  },
  {
   "cell_type": "markdown",
   "metadata": {},
   "source": [
    "Use variables to reduce the amount of typing and effort required to efficient arrive at the same output."
   ]
  },
  {
   "cell_type": "code",
   "execution_count": null,
   "metadata": {},
   "outputs": [],
   "source": [
    "# Your Code Here\n",
    "# Use variable to shorten printing"
   ]
  },
  {
   "cell_type": "markdown",
   "metadata": {},
   "source": [
    "While not quite useful in this particular example, '\\n' can be used within a print statement to have the output be placed onto multiple lines. (i.e., print(a, '\\n', b))\n",
    "\n",
    "### Exercise 3:\n",
    "\n",
    "Naming your variables could be as simple as using a letter. It's also a useful practice to name your variable after whatever you're storing in it. For example, if you're storing an article headline, you may want to name the variable \"headline1\" or a shortened version of the headline. If you're storing a complex math equation, you may want to name the variable after the purpose of the equation. It's importable for code to be as easily human-interpretable as possible for ease of reading.\n",
    "\n",
    "There are limitations, however, to what you can use as variables, depending on the programming language. For Python, your variable name:\n",
    "* Cannot start with a number\n",
    "* Cannot be a Python keyword\n",
    "* Must consist of only alpha-numeric characters and underscores (a, 7, _)\n",
    "\n",
    "Which of the following are invalid names for a custom variable?\n",
    "\n",
    "1. True\n",
    "\n",
    "2. abcde\n",
    "\n",
    "3. TURTLE\n",
    "\n",
    "4. 5pace\n",
    "\n",
    "5. __quad_\n",
    "\n",
    "6. ch$$tahs\n",
    "\n",
    "7. school7\n",
    "\n",
    "### Exercise 4:\n",
    "\n",
    "Logical thinking is an important skill to express with writing code. In this exercise, you will learn how booleans work and understand Python's logical reasoning. Write down the expected output of each."
   ]
  },
  {
   "cell_type": "code",
   "execution_count": null,
   "metadata": {},
   "outputs": [],
   "source": [
    "x = True\n",
    "y = False\n",
    "z = (2 > 1)"
   ]
  },
  {
   "cell_type": "markdown",
   "metadata": {},
   "source": [
    "1. x and y\n",
    "\n",
    "2. x and z\n",
    "\n",
    "3. x or y\n",
    "\n",
    "4. x and y and z"
   ]
  },
  {
   "cell_type": "code",
   "execution_count": null,
   "metadata": {},
   "outputs": [],
   "source": [
    "x1 = (3*7 < 20)\n",
    "y1 = (81**0.5 == 9)"
   ]
  },
  {
   "cell_type": "markdown",
   "metadata": {},
   "source": [
    "5. x1 and y1\n",
    "\n",
    "6. x1 or y1\n",
    "\n",
    "### Exercise 5\n",
    "\n",
    "Let's practice with more operators. Python has shortened forms for certain operators: \"!=\", \"+=\", \"-=\", \"*=\", \"/=\".\n",
    "\"!=\" is equivalent to \"not equals to\" whereas each of the other four combines a basic operation (+, -, *, /) with setting a variable. For example:"
   ]
  },
  {
   "cell_type": "code",
   "execution_count": 14,
   "metadata": {},
   "outputs": [
    {
     "name": "stdout",
     "output_type": "stream",
     "text": [
      "True\n",
      "False\n",
      "30\n"
     ]
    }
   ],
   "source": [
    "print(True != False)\n",
    "print(123 != 123)\n",
    "\n",
    "c = 10\n",
    "c += 20\n",
    "print(c)"
   ]
  },
  {
   "cell_type": "markdown",
   "metadata": {},
   "source": [
    "Here, c+=20 is equivalent to c = c + 20.\n",
    "\n",
    "Predict the output of the following print statements:"
   ]
  },
  {
   "cell_type": "code",
   "execution_count": null,
   "metadata": {},
   "outputs": [],
   "source": [
    "d = 7\n",
    "f = 17%6\n",
    "\n",
    "d *= 9\n",
    "f /= 2\n",
    "\n",
    "print(d)\n",
    "print(f)\n",
    "print(\"123\" != 123)"
   ]
  }
 ],
 "metadata": {
  "kernelspec": {
   "display_name": "Python 3",
   "language": "python",
   "name": "python3"
  },
  "language_info": {
   "codemirror_mode": {
    "name": "ipython",
    "version": 3
   },
   "file_extension": ".py",
   "mimetype": "text/x-python",
   "name": "python",
   "nbconvert_exporter": "python",
   "pygments_lexer": "ipython3",
   "version": "3.10.12"
  }
 },
 "nbformat": 4,
 "nbformat_minor": 2
}
