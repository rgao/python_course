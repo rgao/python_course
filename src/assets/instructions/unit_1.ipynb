{
 "cells": [
  {
   "cell_type": "markdown",
   "metadata": {},
   "source": [
    "# Unit 1: Introduction to Python"
   ]
  },
  {
   "cell_type": "markdown",
   "metadata": {},
   "source": [
    "With all necessary components -- Python, a code editor, and a Unix shell -- set up, we can dive into learning the basics. \n",
    "\n",
    "Unix commands are the fundamentals of navigating and manipulating file systems, and getting used is crucial. [Here is a list](http://mally.stanford.edu/~sr/computing/basic-unix.html) of the most commonly used Unix commands. If the command for a task isn't explicitly stated in the link, try searching for it on Google (or any search engine). Understanding how to search for solutions is one of the most important technical skills."
   ]
  },
  {
   "cell_type": "markdown",
   "metadata": {},
   "source": [
    "### Setting Up a Working Directory"
   ]
  },
  {
   "cell_type": "markdown",
   "metadata": {},
   "source": [
    "A working directory is the directory (folder) where a project or task is located in, and is where you'll go into to work on that task every time. Let's set up a working directory for this course.\n",
    "\n",
    "1. Choose a location (e.g. C:/)\n",
    "2. Make a directory called python_course\n",
    "3. Go into python_course\n",
    "4. Create a directory called unit1\n",
    "5. Go into unit1 \n",
    "6. Create a file called hello_world.py \n",
    "7. Open hello_world.py in VS Code using \"code .\"\n",
    "\n",
    "Let's make a simple print statement in the file:"
   ]
  },
  {
   "cell_type": "code",
   "execution_count": null,
   "metadata": {},
   "outputs": [],
   "source": [
    "print(\"Hello World!\")"
   ]
  },
  {
   "cell_type": "markdown",
   "metadata": {},
   "source": [
    "### Practice with Unix Commands\n",
    "\n",
    "Back to the terminal, we can execute the file with the python command followed by the name of the file: python hello_world.py\n",
    "\n",
    "If it doesn't work, try python3 instead.\n",
    "\n",
    "Create another file in this folder called to_be_moved.txt. Note the .txt extension; it is a text file, not a python file. Files with different extensions tells your code editor what type of file it is. For example, a .js extension indicates a file written in javascript.\n",
    "\n",
    "Let's practice more Unix commands.\n",
    "\n",
    "1. Change into the parent directory\n",
    "2. Create another folder called to_be_removed\n",
    "3. Move the file you just created into this new folder while still in the python_course directory\n",
    "\n",
    "You may have to figure out how to change to parent directories. Next, let's try renaming a file or folder. \n",
    "\n",
    "4. Rename the to_be_removed folder to something else\n",
    "\n",
    "Once you renamed it, we can now try to delete the file and folder.\n",
    "\n",
    "5. Try to remove the new folder while still in the python_course directory\n",
    "6. Use parameters in addition to the remove directory command to ensure it works\n",
    "\n",
    "Parameters can be defined natively for each function in the application to provide options for users."
   ]
  },
  {
   "cell_type": "markdown",
   "metadata": {},
   "source": [
    "## Data Types - Strings, Integers, and Floats\n",
    "\n",
    "The print statement you made earlier printed a string (str). A str is a data type native to just about every programming language. Strings are text and are usually put into quotation marks to let the interpreter know that it's just text and not anything that is meant to be executed as code. \n",
    "\n",
    "Numerical Python data types include integer (int) and float. Integers are whole numbers whereas floats are numbers that can include decimals. Let's try a print statement with int."
   ]
  },
  {
   "cell_type": "code",
   "execution_count": null,
   "metadata": {},
   "outputs": [],
   "source": [
    "print(3 + 5**2)"
   ]
  },
  {
   "cell_type": "markdown",
   "metadata": {},
   "source": [
    "As you can see, you can include mathematical operators (addition and exponentiation, denoted by double asterix, in this case) in the print statement. \n",
    "\n",
    "Data type conversion is a common task and occurs for various purposes. You can, for instance, convert a int or float to string with the str method, or an integer to a float."
   ]
  },
  {
   "cell_type": "code",
   "execution_count": null,
   "metadata": {},
   "outputs": [],
   "source": [
    "str(3)"
   ]
  },
  {
   "cell_type": "code",
   "execution_count": null,
   "metadata": {},
   "outputs": [],
   "source": [
    "float(3)"
   ]
  },
  {
   "cell_type": "markdown",
   "metadata": {},
   "source": [
    "Once an integer or float is converted to a string, it can no longer be used with mathematical operators because it became text. Multiplying '3' with 5 will produce an error:"
   ]
  },
  {
   "cell_type": "code",
   "execution_count": null,
   "metadata": {},
   "outputs": [],
   "source": [
    "'3' * 5"
   ]
  },
  {
   "cell_type": "markdown",
   "metadata": {},
   "source": [
    "When you 'add' strings together, the content of the strings will simply form into (concatenate) a single string."
   ]
  },
  {
   "cell_type": "code",
   "execution_count": null,
   "metadata": {},
   "outputs": [],
   "source": [
    "print('3' + '5', 'three ' + 'five')"
   ]
  },
  {
   "cell_type": "markdown",
   "metadata": {},
   "source": [
    "## Variables\n",
    "\n",
    "Using variables is at the core of programming. Just like in math you'd use variables to store numbers, e.g. x = 5, you'd use variables in Python to store any kind of data. Using variables in Python is easy; the syntax is exactly as how you would write it on a math homework. Other language might require a declaration such as writing 'var' in front of a variable, but Python has no such requirement."
   ]
  },
  {
   "cell_type": "code",
   "execution_count": null,
   "metadata": {},
   "outputs": [],
   "source": [
    "a = 5\n",
    "b = 4\n",
    "\n",
    "a * b"
   ]
  },
  {
   "cell_type": "code",
   "execution_count": null,
   "metadata": {},
   "outputs": [],
   "source": [
    "a = \"cats\"\n",
    "b = \" and \"\n",
    "c = \"dogs\"\n",
    "\n",
    "a + b + c"
   ]
  },
  {
   "cell_type": "markdown",
   "metadata": {},
   "source": [
    "Much of the process in programming involves variable manipulation as a means to achieve the goal of the task. Understanding data types and data storage in variables are the fundamentals of working with functions, classes, and other more complex Python structures."
   ]
  }
 ],
 "metadata": {
  "file_extension": ".py",
  "kernelspec": {
   "display_name": "Python 3",
   "language": "python",
   "name": "python3"
  },
  "language_info": {
   "codemirror_mode": {
    "name": "ipython",
    "version": 3
   },
   "file_extension": ".py",
   "mimetype": "text/x-python",
   "name": "python",
   "nbconvert_exporter": "python",
   "pygments_lexer": "ipython3",
   "version": "3.7.3"
  },
  "mimetype": "text/x-python",
  "name": "python",
  "npconvert_exporter": "python",
  "pygments_lexer": "ipython3",
  "version": 3
 },
 "nbformat": 4,
 "nbformat_minor": 2
}
