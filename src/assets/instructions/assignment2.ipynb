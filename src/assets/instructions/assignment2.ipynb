{
 "cells": [
  {
   "cell_type": "markdown",
   "metadata": {},
   "source": [
    "# Assignment #2 Conditionals and Loops\n",
    "\n",
    "Recommended readings: *How to Think Like a Computer Scientist, 2nd Edition*, Chapters 5.1-5.7 & 7.1-7.4\n",
    "\n",
    "### Exercise 1:"
   ]
  }
 ],
 "metadata": {
  "language_info": {
   "name": "python"
  }
 },
 "nbformat": 4,
 "nbformat_minor": 2
}
