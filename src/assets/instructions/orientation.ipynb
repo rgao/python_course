{
 "cells": [
  {
   "cell_type": "markdown",
   "metadata": {},
   "source": [
    "# Orientation: Setting Things Up"
   ]
  },
  {
   "cell_type": "markdown",
   "metadata": {},
   "source": [
    "To get started, we need to make sure our system has the necessary components for creating a python programming environment. We need to install:\n",
    "\n",
    "- Unix environment (Git Bash) if using Windows\n",
    "- A code editor (Visual Studio Code)\n",
    "- Python 3\n",
    "- Python packages and VS Code extensions"
   ]
  },
  {
   "cell_type": "markdown",
   "metadata": {},
   "source": [
    "### Operating Systems, the Terminal, and Unix Environment \n",
    "\n",
    "There are three major operating systems in the market: Windows, MacOS, and Linux. Linux is often not marketed and used outside of programming, but functions just as well as and is more flexible than Windows for purposes of programming and development. For this course, we can work under either Windows or Linux, though we will essentially implement a Unix environment in Windows through Git Bash.\n",
    "\n",
    "If you're using Windows, download [Git Bash](https://gitforwindows.org/ \"Download Git\").\n",
    "\n",
    "Git Bash is a Unix shell environment that allows the use of Unix commands (will discuss later). Windows has a command prompt terminal that allows you to interface with its software and hardware; Git Bash is comparable, but provides more flexibility and control for our purposes.\n",
    "\n",
    "*Note: it's possible that your Windows system is set up so that you would need administrator permission to run commands in Git Bash or Window's native terminal. In this case, right click \"Run as administrator\" whenever you want to start the application.*"
   ]
  },
  {
   "cell_type": "markdown",
   "metadata": {},
   "source": [
    "### Code Editor and VS Code\n",
    "\n",
    "Next, we would need a code editor to view, create, and write content into files among many other tasks. Microsoft Word, for example, is a code editor that allows you to edit PDF and text files within a framework. Visual Studio Code essentially lets you edit any type of file without a pre-established framework and comes with an awesome interface for accessing and organizing files.\n",
    "\n",
    "[Download Visual Studio Code](https://code.visualstudio.com/download \"Download VS Code\").\n",
    "\n",
    "*Make sure to pin Git Bash and VS Code to task bar for easy access.*"
   ]
  },
  {
   "cell_type": "markdown",
   "metadata": {},
   "source": [
    "### Getting Started with Python and Configuring Environmental Variables\n",
    "\n",
    "Now that we have our environments set up, we can get Python into our systems. \n",
    "\n",
    "Go to [Python's website](python.org \"Python\"), hover over \"Downloads,\" and click Python 3.8.1. If you're using Linux, type *sudo apt-get install python3.8* in the command line.\n",
    "\n",
    "**!Important: Do not install with the default configuration. Choose manual setup check all the boxes. We want to install Python in an easily-accessible directory. Install Python in your hard drive's root folder (e.g. C:/ or D:/) or anywhere you can remember and is easy to access.**\n",
    "\n",
    "As a habit, remember where you install application and packages. In the world of programming, file pathing configuration is extremely important as things break if the code can't find where a file is located. \n",
    "\n",
    "We want to add Python to our environmental variables. Environmental variables can be \"keywords\" that your system detects as having special meaning and can execute actions. The \"python\" command we ran in Git Bash can execute a python file, and we want the system to recognize it. \n",
    "\n",
    "To add python to environment variables:\n",
    "\n",
    "1. Search for \"environment variables\" in Windows search and click \"Edit the system environment variables\"\n",
    "2. Click \"Environment variables\" under system properties\n",
    "3. Double click \"Path\" under \"system variables\" (note: not User variables, though you can do it for that additionally)\n",
    "4. Click \"New\" and add the paths to your python files to it so your system recognizes the \"python\" command\n",
    "    * Path to your python folder (e.g. C:\\Python38)\n",
    "    * Path to your python folder + Scripts (e.g. C:\\Python38\\Scripts)\n",
    "\n",
    "Restart Git Bash if it's running."
   ]
  },
  {
   "cell_type": "markdown",
   "metadata": {},
   "source": [
    "### Test Run\n",
    "\n",
    "It's time to put everything together and test our software.\n",
    "\n",
    "Open Git Bash and type the following:\n",
    "1. mkdir testdir (create a folder named testdir)\n",
    "2. cd testdir (go into the folder)\n",
    "3. touch test.py (create a python file named test)\n",
    "4. code test.py (open the file in VS Code)\n",
    "\n",
    "In VS Code, type the following code into test.py:"
   ]
  },
  {
   "cell_type": "code",
   "execution_count": null,
   "metadata": {},
   "outputs": [],
   "source": [
    "def hello_world(myname):\n",
    "    \n",
    "    print(\"Hi! My name is \" + myname)\n",
    "    \n",
    "hello_world(\"Ryan\")"
   ]
  },
  {
   "cell_type": "markdown",
   "metadata": {},
   "source": [
    "To the run code, type \"python test.py\" in Git Bash. If it prints the statement in the function, then everything is good to go. Now change to your previous directory with \"cd ../..\" and remove the test folder with \"rm -rf test\"."
   ]
  }
 ],
 "metadata": {
  "file_extension": ".py",
  "kernelspec": {
   "display_name": "Python 3",
   "language": "python",
   "name": "python3"
  },
  "language_info": {
   "codemirror_mode": {
    "name": "ipython",
    "version": 3
   },
   "file_extension": ".py",
   "mimetype": "text/x-python",
   "name": "python",
   "nbconvert_exporter": "python",
   "pygments_lexer": "ipython3",
   "version": "3.6.4"
  },
  "mimetype": "text/x-python",
  "name": "python",
  "npconvert_exporter": "python",
  "pygments_lexer": "ipython3",
  "version": 3
 },
 "nbformat": 4,
 "nbformat_minor": 2
}
